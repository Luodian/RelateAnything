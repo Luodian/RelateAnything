{
 "cells": [
  {
   "cell_type": "code",
   "execution_count": 5,
   "metadata": {},
   "outputs": [],
   "source": [
    "import argparse\n",
    "import os\n",
    "import copy\n",
    "\n",
    "import numpy as np\n",
    "import json\n",
    "import torch\n",
    "from PIL import Image, ImageDraw, ImageFont\n",
    "\n",
    "# Grounding DINO\n",
    "import GroundingDINO.groundingdino.datasets.transforms as T\n",
    "from GroundingDINO.groundingdino.models import build_model\n",
    "from GroundingDINO.groundingdino.util import box_ops\n",
    "from GroundingDINO.groundingdino.util.slconfig import SLConfig\n",
    "from GroundingDINO.groundingdino.util.utils import clean_state_dict, get_phrases_from_posmap\n",
    "\n",
    "# segment anything\n",
    "from segment_anything import build_sam, SamPredictor \n",
    "import cv2\n",
    "import numpy as np\n",
    "import matplotlib.pyplot as plt"
   ]
  },
  {
   "cell_type": "code",
   "execution_count": 43,
   "metadata": {},
   "outputs": [],
   "source": [
    "def load_image(image_path):\n",
    "    # load image\n",
    "    image_pil = Image.open(image_path).convert(\"RGB\")  # load image\n",
    "\n",
    "    transform = T.Compose(\n",
    "        [\n",
    "            T.RandomResize([800], max_size=1333),\n",
    "            T.ToTensor(),\n",
    "            T.Normalize([0.485, 0.456, 0.406], [0.229, 0.224, 0.225]),\n",
    "        ]\n",
    "    )\n",
    "    image, _ = transform(image_pil, None)  # 3, h, w\n",
    "    return image_pil, image\n",
    "\n",
    "\n",
    "def load_model(model_config_path, model_checkpoint_path, device):\n",
    "    args = SLConfig.fromfile(model_config_path)\n",
    "    args.device = device\n",
    "    model = build_model(args)\n",
    "    checkpoint = torch.load(model_checkpoint_path, map_location=\"cpu\")\n",
    "    load_res = model.load_state_dict(clean_state_dict(checkpoint[\"model\"]), strict=False)\n",
    "    print(load_res)\n",
    "    _ = model.eval()\n",
    "    return model\n",
    "\n",
    "\n",
    "def get_grounding_output(model, image, caption, box_threshold, text_threshold, with_logits=True, device=\"cpu\"):\n",
    "    caption = caption.lower()\n",
    "    caption = caption.strip()\n",
    "    if not caption.endswith(\".\"):\n",
    "        caption = caption + \".\"\n",
    "    model = model.to(device)\n",
    "    image = image.to(device)\n",
    "    with torch.no_grad():\n",
    "        outputs = model(image[None], captions=[caption])\n",
    "    logits = outputs[\"pred_logits\"].cpu().sigmoid()[0]  # (nq, 256)\n",
    "    boxes = outputs[\"pred_boxes\"].cpu()[0]  # (nq, 4)\n",
    "    logits.shape[0]\n",
    "\n",
    "    # filter output\n",
    "    logits_filt = logits.clone()\n",
    "    boxes_filt = boxes.clone()\n",
    "    filt_mask = logits_filt.max(dim=1)[0] > box_threshold\n",
    "    logits_filt = logits_filt[filt_mask]  # num_filt, 256\n",
    "    boxes_filt = boxes_filt[filt_mask]  # num_filt, 4\n",
    "    logits_filt.shape[0]\n",
    "\n",
    "    # get phrase\n",
    "    tokenlizer = model.tokenizer\n",
    "    tokenized = tokenlizer(caption)\n",
    "    # build pred\n",
    "    pred_phrases = []\n",
    "    for logit, box in zip(logits_filt, boxes_filt):\n",
    "        pred_phrase = get_phrases_from_posmap(logit > text_threshold, tokenized, tokenlizer)\n",
    "        if with_logits:\n",
    "            pred_phrases.append(pred_phrase + f\"({str(logit.max().item())[:4]})\")\n",
    "        else:\n",
    "            pred_phrases.append(pred_phrase)\n",
    "\n",
    "    return boxes_filt, pred_phrases\n",
    "\n",
    "def show_mask(mask, ax, random_color=False):\n",
    "    if random_color:\n",
    "        color = np.concatenate([np.random.random(3), np.array([0.6])], axis=0)\n",
    "    else:\n",
    "        color = np.array([30/255, 144/255, 255/255, 0.6])\n",
    "    h, w = mask.shape[-2:]\n",
    "    mask_image = mask.reshape(h, w, 1) * color.reshape(1, 1, -1)\n",
    "    ax.imshow(mask_image)\n",
    "\n",
    "\n",
    "def show_box(box, ax, label):\n",
    "    x0, y0 = box[0], box[1]\n",
    "    w, h = box[2] - box[0], box[3] - box[1]\n",
    "    ax.add_patch(plt.Rectangle((x0, y0), w, h, edgecolor='green', facecolor=(0,0,0,0), lw=2)) \n",
    "    ax.text(x0, y0, label)\n",
    "\n",
    "\n",
    "def save_mask_data(output_dir, mask_list, box_list, label_list):\n",
    "    value = 0  # 0 for background\n",
    "\n",
    "    mask_img = torch.zeros(mask_list.shape[-2:])\n",
    "    for idx, mask in enumerate(mask_list):\n",
    "        mask_img[mask.cpu().numpy()[0] == True] = value + idx + 1\n",
    "    plt.figure(figsize=(10, 10))\n",
    "    plt.imshow(mask_img.numpy())\n",
    "    plt.axis('off')\n",
    "    plt.savefig(os.path.join(output_dir, 'mask.jpg'), bbox_inches=\"tight\", dpi=300, pad_inches=0.0)\n",
    "\n",
    "    json_data = [{\n",
    "        'value': value,\n",
    "        'label': 'background'\n",
    "    }]\n",
    "    for label, box in zip(label_list, box_list):\n",
    "        value += 1\n",
    "        name, logit = label.split('(')\n",
    "        logit = logit[:-1] # the last is ')'\n",
    "        json_data.append({\n",
    "            'value': value,\n",
    "            'label': name,\n",
    "            'logit': float(logit),\n",
    "            'box': box.numpy().tolist(),\n",
    "        })\n",
    "    with open(os.path.join(output_dir, 'mask.json'), 'w') as f:\n",
    "        json.dump(json_data, f)"
   ]
  },
  {
   "cell_type": "code",
   "execution_count": 5,
   "metadata": {},
   "outputs": [],
   "source": [
    "# initialize SAM\n",
    "sam = build_sam(checkpoint=sam_checkpoint)\n",
    "sam.to(device=device)\n",
    "predictor = SamPredictor(sam)\n",
    "image = cv2.imread(image_path)\n",
    "image = cv2.cvtColor(image, cv2.COLOR_BGR2RGB)\n",
    "predictor.set_image(image)\n",
    "\n",
    "size = image_pil.size\n",
    "H, W = size[1], size[0]\n",
    "for i in range(boxes_filt.size(0)):\n",
    "    boxes_filt[i] = boxes_filt[i] * torch.Tensor([W, H, W, H])\n",
    "    boxes_filt[i][:2] -= boxes_filt[i][2:] / 2\n",
    "    boxes_filt[i][2:] += boxes_filt[i][:2]\n",
    "\n",
    "boxes_filt = boxes_filt.cpu()\n",
    "transformed_boxes = predictor.transform.apply_boxes_torch(boxes_filt, image.shape[:2]).to(device)\n",
    "\n",
    "masks, _, _ = predictor.predict_torch(\n",
    "    point_coords = None,\n",
    "    point_labels = None,\n",
    "    boxes = transformed_boxes,\n",
    "    multimask_output = False,\n",
    ")"
   ]
  },
  {
   "cell_type": "code",
   "execution_count": 6,
   "metadata": {},
   "outputs": [],
   "source": [
    "from segment_anything import SamAutomaticMaskGenerator, sam_model_registry\n",
    "mask_generator = SamAutomaticMaskGenerator(sam)\n",
    "masks = mask_generator.generate(image)"
   ]
  },
  {
   "cell_type": "code",
   "execution_count": 7,
   "metadata": {},
   "outputs": [
    {
     "name": "stdout",
     "output_type": "stream",
     "text": [
      "122\n",
      "dict_keys(['segmentation', 'area', 'bbox', 'predicted_iou', 'point_coords', 'stability_score', 'crop_box'])\n"
     ]
    }
   ],
   "source": [
    "print(len(masks))\n",
    "print(masks[0].keys())"
   ]
  },
  {
   "cell_type": "code",
   "execution_count": null,
   "metadata": {},
   "outputs": [],
   "source": [
    "class RelateAnything(torch.nn.Module):\n",
    "    self.sam()\n",
    "    self.pair_net()\n",
    "\n",
    "    def forward(image):\n",
    "        masks_out, feat_out = self.sam(image)\n",
    "        pair_out = self.pair_net(feat_out)\n",
    "        # pair_out = [(int, int, float), (int, int, float), ...]\n",
    "        rel_feat = clip(mask_i + mask_j) - clip(mask_i) - clip(mask_j)\n",
    "        # image level feature\n",
    "        rel_class = argmax(rel_feat, predefined_relation_dict)\n",
    "        return mask_i, rel_class, mask_j\n",
    "\n",
    "image = \"demo.png\"\n",
    "model = RelateAnything()\n",
    "output = model(image)\n",
    "# output = [(int, int, int), (int, int, int), ...]\n",
    "text_output = process_output(output)\n",
    "relation_caption = ChatGPT().generate(output)"
   ]
  },
  {
   "cell_type": "code",
   "execution_count": 50,
   "metadata": {},
   "outputs": [
    {
     "name": "stderr",
     "output_type": "stream",
     "text": [
      "Loading checkpoint shards: 100%|██████████| 2/2 [00:03<00:00,  1.97s/it]\n"
     ]
    },
    {
     "name": "stdout",
     "output_type": "stream",
     "text": [
      "a corgi dog running in the grass\n"
     ]
    }
   ],
   "source": [
    "from transformers import AutoProcessor, Blip2ForConditionalGeneration\n",
    "import torch\n",
    "import PIL\n",
    "\n",
    "processor = AutoProcessor.from_pretrained(\"Salesforce/blip2-opt-2.7b\")\n",
    "model = Blip2ForConditionalGeneration.from_pretrained(\"Salesforce/blip2-opt-2.7b\", torch_dtype=torch.float16)\n",
    "\n",
    "device = \"cuda\" if torch.cuda.is_available() else \"cpu\"\n",
    "model.to(device)\n",
    "\n",
    "image = PIL.Image.open(\"assets/demo2.jpg\")\n",
    "\n",
    "inputs = processor(image, return_tensors=\"pt\").to(device, torch.float16)\n",
    "\n",
    "generated_ids = model.generate(**inputs, max_new_tokens=20)\n",
    "generated_text = processor.batch_decode(generated_ids, skip_special_tokens=True)[0].strip()\n",
    "print(generated_text)"
   ]
  },
  {
   "cell_type": "code",
   "execution_count": 52,
   "metadata": {},
   "outputs": [
    {
     "name": "stdout",
     "output_type": "stream",
     "text": [
      "{'entities': [{'head': 'corgi dog',\n",
      "               'lemma_head': 'corgi dog',\n",
      "               'lemma_span': 'a corgi dog',\n",
      "               'modifiers': [{'dep': 'det', 'lemma_span': 'a', 'span': 'a'}],\n",
      "               'span': 'a corgi dog',\n",
      "               'span_bounds': (0, 3),\n",
      "               'type': 'unknown'},\n",
      "              {'head': 'grass',\n",
      "               'lemma_head': 'grass',\n",
      "               'lemma_span': 'the grass',\n",
      "               'modifiers': [{'dep': 'det',\n",
      "                              'lemma_span': 'the',\n",
      "                              'span': 'the'}],\n",
      "               'span': 'the grass',\n",
      "               'span_bounds': (5, 7),\n",
      "               'type': 'unknown'}],\n",
      " 'relations': [{'lemma_relation': 'run in',\n",
      "                'object': 1,\n",
      "                'relation': 'running in',\n",
      "                'subject': 0}]}\n",
      "Entities:\n",
      "+-----------+-------------+-------------+\n",
      "| Head      | Span        | Modifiers   |\n",
      "|-----------+-------------+-------------|\n",
      "| corgi dog | a corgi dog | a           |\n",
      "| grass     | the grass   | the         |\n",
      "+-----------+-------------+-------------+\n",
      "Relations:\n",
      "+-----------+------------+----------+\n",
      "| Subject   | Relation   | Object   |\n",
      "|-----------+------------+----------|\n",
      "| corgi dog | running in | grass    |\n",
      "+-----------+------------+----------+\n"
     ]
    }
   ],
   "source": [
    "import sys\n",
    "sys.path.append(\"../\")\n",
    "import sng_parser\n",
    "from pprint import pprint\n",
    "import pickle\n",
    "import time\n",
    "\n",
    "# official example\n",
    "graph = sng_parser.parse(generated_text)\n",
    "pprint(graph)\n",
    "sng_parser.tprint(graph)  # we provide a tabular visualization of the graph."
   ]
  },
  {
   "cell_type": "code",
   "execution_count": 53,
   "metadata": {},
   "outputs": [
    {
     "name": "stdout",
     "output_type": "stream",
     "text": [
      "corgi dog\n",
      "grass\n"
     ]
    }
   ],
   "source": [
    "# sng_parser.tprint(graph)  # we provide a tabular visualization of the graph.\n",
    "# entities_data = [\n",
    "#     [e['head'].lower(), e['span'].lower(), ','.join([ x['span'].lower() for x in e['modifiers'] ])]\n",
    "#     for e in graph['entities']\n",
    "# ]\n",
    "\n",
    "entities = graph['entities']\n",
    "relations_data = [\n",
    "    [\n",
    "        entities[rel['subject']]['head'].lower(),\n",
    "        rel['relation'].lower(),\n",
    "        entities[rel['object']]['head'].lower()\n",
    "    ]\n",
    "    for rel in graph['relations']\n",
    "]\n",
    "for item in entities:\n",
    "    print(item['head'])\n",
    "# print(relations_data)"
   ]
  },
  {
   "cell_type": "code",
   "execution_count": 63,
   "metadata": {},
   "outputs": [
    {
     "name": "stdout",
     "output_type": "stream",
     "text": [
      "corgi dog\n"
     ]
    },
    {
     "data": {
      "text/html": [
       "<pre style=\"white-space:pre;overflow-x:auto;line-height:normal;font-family:Menlo,'DejaVu Sans Mono',consolas,'Courier New',monospace\"><span style=\"color: #800000; text-decoration-color: #800000\">╭─────────────────────────────── </span><span style=\"color: #800000; text-decoration-color: #800000; font-weight: bold\">Traceback </span><span style=\"color: #bf7f7f; text-decoration-color: #bf7f7f; font-weight: bold\">(most recent call last)</span><span style=\"color: #800000; text-decoration-color: #800000\"> ────────────────────────────────╮</span>\n",
       "<span style=\"color: #800000; text-decoration-color: #800000\">│</span> in <span style=\"color: #00ff00; text-decoration-color: #00ff00\">&lt;module&gt;</span>:<span style=\"color: #0000ff; text-decoration-color: #0000ff\">6</span>                                                                                    <span style=\"color: #800000; text-decoration-color: #800000\">│</span>\n",
       "<span style=\"color: #800000; text-decoration-color: #800000\">│</span>                                                                                                  <span style=\"color: #800000; text-decoration-color: #800000\">│</span>\n",
       "<span style=\"color: #800000; text-decoration-color: #800000\">│</span>   <span style=\"color: #7f7f7f; text-decoration-color: #7f7f7f\"> 3 </span>pred_phrases = []                                                                           <span style=\"color: #800000; text-decoration-color: #800000\">│</span>\n",
       "<span style=\"color: #800000; text-decoration-color: #800000\">│</span>   <span style=\"color: #7f7f7f; text-decoration-color: #7f7f7f\"> 4 </span><span style=\"color: #0000ff; text-decoration-color: #0000ff\">for</span> item <span style=\"color: #ff00ff; text-decoration-color: #ff00ff\">in</span> entities:                                                                       <span style=\"color: #800000; text-decoration-color: #800000\">│</span>\n",
       "<span style=\"color: #800000; text-decoration-color: #800000\">│</span>   <span style=\"color: #7f7f7f; text-decoration-color: #7f7f7f\"> 5 │   </span><span style=\"color: #00ffff; text-decoration-color: #00ffff\">print</span>(item[<span style=\"color: #808000; text-decoration-color: #808000\">'head'</span>])                                                                     <span style=\"color: #800000; text-decoration-color: #800000\">│</span>\n",
       "<span style=\"color: #800000; text-decoration-color: #800000\">│</span> <span style=\"color: #800000; text-decoration-color: #800000\">❱ </span> 6 <span style=\"color: #7f7f7f; text-decoration-color: #7f7f7f\">│   </span>current_boxes_filt, current_pred_phrases = get_grounding_output(                        <span style=\"color: #800000; text-decoration-color: #800000\">│</span>\n",
       "<span style=\"color: #800000; text-decoration-color: #800000\">│</span>   <span style=\"color: #7f7f7f; text-decoration-color: #7f7f7f\"> 7 │   │   </span>model, image, item[<span style=\"color: #808000; text-decoration-color: #808000\">'head'</span>], box_threshold, text_threshold, device=device            <span style=\"color: #800000; text-decoration-color: #800000\">│</span>\n",
       "<span style=\"color: #800000; text-decoration-color: #800000\">│</span>   <span style=\"color: #7f7f7f; text-decoration-color: #7f7f7f\"> 8 │   </span>)                                                                                       <span style=\"color: #800000; text-decoration-color: #800000\">│</span>\n",
       "<span style=\"color: #800000; text-decoration-color: #800000\">│</span>   <span style=\"color: #7f7f7f; text-decoration-color: #7f7f7f\"> 9 │   # boxes_filt.extend(current_boxes_filt)</span>                                                 <span style=\"color: #800000; text-decoration-color: #800000\">│</span>\n",
       "<span style=\"color: #800000; text-decoration-color: #800000\">│</span>                                                                                                  <span style=\"color: #800000; text-decoration-color: #800000\">│</span>\n",
       "<span style=\"color: #800000; text-decoration-color: #800000\">│</span> in <span style=\"color: #00ff00; text-decoration-color: #00ff00\">get_grounding_output</span>:<span style=\"color: #0000ff; text-decoration-color: #0000ff\">33</span>                                                                       <span style=\"color: #800000; text-decoration-color: #800000\">│</span>\n",
       "<span style=\"color: #800000; text-decoration-color: #800000\">│</span>                                                                                                  <span style=\"color: #800000; text-decoration-color: #800000\">│</span>\n",
       "<span style=\"color: #800000; text-decoration-color: #800000\">│</span>   <span style=\"color: #7f7f7f; text-decoration-color: #7f7f7f\"> 30 │   </span><span style=\"color: #0000ff; text-decoration-color: #0000ff\">if</span> <span style=\"color: #ff00ff; text-decoration-color: #ff00ff\">not</span> caption.endswith(<span style=\"color: #808000; text-decoration-color: #808000\">\".\"</span>):                                                          <span style=\"color: #800000; text-decoration-color: #800000\">│</span>\n",
       "<span style=\"color: #800000; text-decoration-color: #800000\">│</span>   <span style=\"color: #7f7f7f; text-decoration-color: #7f7f7f\"> 31 │   │   </span>caption = caption + <span style=\"color: #808000; text-decoration-color: #808000\">\".\"</span>                                                            <span style=\"color: #800000; text-decoration-color: #800000\">│</span>\n",
       "<span style=\"color: #800000; text-decoration-color: #800000\">│</span>   <span style=\"color: #7f7f7f; text-decoration-color: #7f7f7f\"> 32 │   </span>model = model.to(device)                                                               <span style=\"color: #800000; text-decoration-color: #800000\">│</span>\n",
       "<span style=\"color: #800000; text-decoration-color: #800000\">│</span> <span style=\"color: #800000; text-decoration-color: #800000\">❱ </span> 33 <span style=\"color: #7f7f7f; text-decoration-color: #7f7f7f\">│   </span>image = image.to(device)                                                               <span style=\"color: #800000; text-decoration-color: #800000\">│</span>\n",
       "<span style=\"color: #800000; text-decoration-color: #800000\">│</span>   <span style=\"color: #7f7f7f; text-decoration-color: #7f7f7f\"> 34 │   </span><span style=\"color: #0000ff; text-decoration-color: #0000ff\">with</span> torch.no_grad():                                                                  <span style=\"color: #800000; text-decoration-color: #800000\">│</span>\n",
       "<span style=\"color: #800000; text-decoration-color: #800000\">│</span>   <span style=\"color: #7f7f7f; text-decoration-color: #7f7f7f\"> 35 │   │   </span>outputs = model(image[<span style=\"color: #0000ff; text-decoration-color: #0000ff\">None</span>], captions=[caption])                                   <span style=\"color: #800000; text-decoration-color: #800000\">│</span>\n",
       "<span style=\"color: #800000; text-decoration-color: #800000\">│</span>   <span style=\"color: #7f7f7f; text-decoration-color: #7f7f7f\"> 36 │   </span>logits = outputs[<span style=\"color: #808000; text-decoration-color: #808000\">\"pred_logits\"</span>].cpu().sigmoid()[<span style=\"color: #0000ff; text-decoration-color: #0000ff\">0</span>]  <span style=\"color: #7f7f7f; text-decoration-color: #7f7f7f\"># (nq, 256)</span>                        <span style=\"color: #800000; text-decoration-color: #800000\">│</span>\n",
       "<span style=\"color: #800000; text-decoration-color: #800000\">╰──────────────────────────────────────────────────────────────────────────────────────────────────╯</span>\n",
       "<span style=\"color: #ff0000; text-decoration-color: #ff0000; font-weight: bold\">AttributeError: </span><span style=\"color: #008000; text-decoration-color: #008000\">'numpy.ndarray'</span> object has no attribute <span style=\"color: #008000; text-decoration-color: #008000\">'to'</span>\n",
       "</pre>\n"
      ],
      "text/plain": [
       "\u001b[31m╭─\u001b[0m\u001b[31m──────────────────────────────\u001b[0m\u001b[31m \u001b[0m\u001b[1;31mTraceback \u001b[0m\u001b[1;2;31m(most recent call last)\u001b[0m\u001b[31m \u001b[0m\u001b[31m───────────────────────────────\u001b[0m\u001b[31m─╮\u001b[0m\n",
       "\u001b[31m│\u001b[0m in \u001b[92m<module>\u001b[0m:\u001b[94m6\u001b[0m                                                                                    \u001b[31m│\u001b[0m\n",
       "\u001b[31m│\u001b[0m                                                                                                  \u001b[31m│\u001b[0m\n",
       "\u001b[31m│\u001b[0m   \u001b[2m 3 \u001b[0mpred_phrases = []                                                                           \u001b[31m│\u001b[0m\n",
       "\u001b[31m│\u001b[0m   \u001b[2m 4 \u001b[0m\u001b[94mfor\u001b[0m item \u001b[95min\u001b[0m entities:                                                                       \u001b[31m│\u001b[0m\n",
       "\u001b[31m│\u001b[0m   \u001b[2m 5 \u001b[0m\u001b[2m│   \u001b[0m\u001b[96mprint\u001b[0m(item[\u001b[33m'\u001b[0m\u001b[33mhead\u001b[0m\u001b[33m'\u001b[0m])                                                                     \u001b[31m│\u001b[0m\n",
       "\u001b[31m│\u001b[0m \u001b[31m❱ \u001b[0m 6 \u001b[2m│   \u001b[0mcurrent_boxes_filt, current_pred_phrases = get_grounding_output(                        \u001b[31m│\u001b[0m\n",
       "\u001b[31m│\u001b[0m   \u001b[2m 7 \u001b[0m\u001b[2m│   │   \u001b[0mmodel, image, item[\u001b[33m'\u001b[0m\u001b[33mhead\u001b[0m\u001b[33m'\u001b[0m], box_threshold, text_threshold, device=device            \u001b[31m│\u001b[0m\n",
       "\u001b[31m│\u001b[0m   \u001b[2m 8 \u001b[0m\u001b[2m│   \u001b[0m)                                                                                       \u001b[31m│\u001b[0m\n",
       "\u001b[31m│\u001b[0m   \u001b[2m 9 \u001b[0m\u001b[2m│   \u001b[0m\u001b[2m# boxes_filt.extend(current_boxes_filt)\u001b[0m                                                 \u001b[31m│\u001b[0m\n",
       "\u001b[31m│\u001b[0m                                                                                                  \u001b[31m│\u001b[0m\n",
       "\u001b[31m│\u001b[0m in \u001b[92mget_grounding_output\u001b[0m:\u001b[94m33\u001b[0m                                                                       \u001b[31m│\u001b[0m\n",
       "\u001b[31m│\u001b[0m                                                                                                  \u001b[31m│\u001b[0m\n",
       "\u001b[31m│\u001b[0m   \u001b[2m 30 \u001b[0m\u001b[2m│   \u001b[0m\u001b[94mif\u001b[0m \u001b[95mnot\u001b[0m caption.endswith(\u001b[33m\"\u001b[0m\u001b[33m.\u001b[0m\u001b[33m\"\u001b[0m):                                                          \u001b[31m│\u001b[0m\n",
       "\u001b[31m│\u001b[0m   \u001b[2m 31 \u001b[0m\u001b[2m│   │   \u001b[0mcaption = caption + \u001b[33m\"\u001b[0m\u001b[33m.\u001b[0m\u001b[33m\"\u001b[0m                                                            \u001b[31m│\u001b[0m\n",
       "\u001b[31m│\u001b[0m   \u001b[2m 32 \u001b[0m\u001b[2m│   \u001b[0mmodel = model.to(device)                                                               \u001b[31m│\u001b[0m\n",
       "\u001b[31m│\u001b[0m \u001b[31m❱ \u001b[0m 33 \u001b[2m│   \u001b[0mimage = image.to(device)                                                               \u001b[31m│\u001b[0m\n",
       "\u001b[31m│\u001b[0m   \u001b[2m 34 \u001b[0m\u001b[2m│   \u001b[0m\u001b[94mwith\u001b[0m torch.no_grad():                                                                  \u001b[31m│\u001b[0m\n",
       "\u001b[31m│\u001b[0m   \u001b[2m 35 \u001b[0m\u001b[2m│   │   \u001b[0moutputs = model(image[\u001b[94mNone\u001b[0m], captions=[caption])                                   \u001b[31m│\u001b[0m\n",
       "\u001b[31m│\u001b[0m   \u001b[2m 36 \u001b[0m\u001b[2m│   \u001b[0mlogits = outputs[\u001b[33m\"\u001b[0m\u001b[33mpred_logits\u001b[0m\u001b[33m\"\u001b[0m].cpu().sigmoid()[\u001b[94m0\u001b[0m]  \u001b[2m# (nq, 256)\u001b[0m                        \u001b[31m│\u001b[0m\n",
       "\u001b[31m╰──────────────────────────────────────────────────────────────────────────────────────────────────╯\u001b[0m\n",
       "\u001b[1;91mAttributeError: \u001b[0m\u001b[32m'numpy.ndarray'\u001b[0m object has no attribute \u001b[32m'to'\u001b[0m\n"
      ]
     },
     "metadata": {},
     "output_type": "display_data"
    }
   ],
   "source": [
    "# run grounding dino model\n",
    "boxes_filt = []\n",
    "pred_phrases = []\n",
    "for item in entities:\n",
    "    print(item['head'])\n",
    "    current_boxes_filt, current_pred_phrases = get_grounding_output(\n",
    "        model, image, item['head'], box_threshold, text_threshold, device=device\n",
    "    )\n",
    "    # boxes_filt.extend(current_boxes_filt)\n",
    "    # pred_phrases.extend(current_pred_phrases)\n"
   ]
  }
 ],
 "metadata": {
  "kernelspec": {
   "display_name": "ml_envs",
   "language": "python",
   "name": "python3"
  },
  "language_info": {
   "codemirror_mode": {
    "name": "ipython",
    "version": 3
   },
   "file_extension": ".py",
   "mimetype": "text/x-python",
   "name": "python",
   "nbconvert_exporter": "python",
   "pygments_lexer": "ipython3",
   "version": "3.9.15"
  },
  "orig_nbformat": 4
 },
 "nbformat": 4,
 "nbformat_minor": 2
}
